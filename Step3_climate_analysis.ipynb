{
 "cells": [
  {
   "cell_type": "markdown",
   "metadata": {},
   "source": [
    "## Step 3 - Climate Analysis and Exploration\n",
    "\n",
    "You are now ready to use Python and SQLAlchemy to do basic climate analysis and data exploration on your new weather station tables. All of the following analysis should be completed using SQLAlchemy ORM queries, Pandas, and Matplotlib.\n",
    "\n",
    "* Create a Jupyter Notebook file called `climate_analysis.ipynb` and use it to complete your climate analysis and data exporation.\n",
    "\n",
    "* Choose a start date and end date for your trip. Make sure that your vacation range is approximately 3-15 days total.\n",
    "\n",
    "* Use SQLAlchemy `create_engine` to connect to your sqlite database.\n",
    "\n",
    "* Use SQLAlchemy `automap_base()` to reflect your tables into classes and save a reference to those classes called `Station` and `Measurement`."
   ]
  },
  {
   "cell_type": "code",
   "execution_count": 131,
   "metadata": {},
   "outputs": [],
   "source": [
    "# Import Dependencies\n",
    "from sqlalchemy.ext.automap import automap_base\n",
    "from sqlalchemy import create_engine"
   ]
  },
  {
   "cell_type": "code",
   "execution_count": 161,
   "metadata": {},
   "outputs": [],
   "source": [
    "# Create an engine for the hawaii.sqlite database\n",
    "engine = create_engine(\"sqlite:///hawaii.sqlite\", echo=False)"
   ]
  },
  {
   "cell_type": "code",
   "execution_count": 162,
   "metadata": {},
   "outputs": [
    {
     "data": {
      "text/plain": [
       "['measurements', 'stations']"
      ]
     },
     "execution_count": 162,
     "metadata": {},
     "output_type": "execute_result"
    }
   ],
   "source": [
    "# Reflect Database into ORM classes\n",
    "Base = automap_base()\n",
    "Base.prepare(engine, reflect=True)\n",
    "Base.classes.keys()"
   ]
  },
  {
   "cell_type": "code",
   "execution_count": 134,
   "metadata": {},
   "outputs": [
    {
     "data": {
      "text/plain": [
       "[('measurements', sqlalchemy.ext.automap.measurements),\n",
       " ('stations', sqlalchemy.ext.automap.stations)]"
      ]
     },
     "execution_count": 134,
     "metadata": {},
     "output_type": "execute_result"
    }
   ],
   "source": [
    "Base.classes.items()"
   ]
  },
  {
   "cell_type": "code",
   "execution_count": 135,
   "metadata": {},
   "outputs": [],
   "source": [
    "# Save a reference to the stations table as `Station`\n",
    "Station = Base.classes.stations"
   ]
  },
  {
   "cell_type": "code",
   "execution_count": 136,
   "metadata": {},
   "outputs": [],
   "source": [
    "# Save a reference to the measurements table as `Measurement`\n",
    "Measurement = Base.classes.measurements"
   ]
  },
  {
   "cell_type": "markdown",
   "metadata": {},
   "source": [
    "### Precipitation Analysis\n",
    "\n",
    "* Design a query to retrieve the last 12 months of precipitation data.\n",
    "\n",
    "* Select only the `date` and `prcp` values.\n",
    "\n",
    "* Load the query results into a Pandas DataFrame and set the index to the date column.\n",
    "\n",
    "* Plot the results using the DataFrame `plot` method.\n",
    "\n",
    "<center><img src='images/precip.png' /></center>\n",
    "\n",
    "* Use Pandas to print the summary statistics for the precipitation data."
   ]
  },
  {
   "cell_type": "code",
   "execution_count": 137,
   "metadata": {},
   "outputs": [],
   "source": [
    "# Create a database session object\n",
    "from sqlalchemy.orm import Session\n",
    "session = Session(engine)"
   ]
  },
  {
   "cell_type": "code",
   "execution_count": 138,
   "metadata": {},
   "outputs": [],
   "source": [
    "# calculate the begin-date(using sqlalchemy) and end-date(using python object) to construct a 12 month time-window \n",
    "# in order to extract data for the past 12 months\n",
    "from datetime import datetime\n",
    "from datetime import timedelta\n",
    "year = timedelta(days=365)\n",
    "\n",
    "# get the latest date using the measurment table\n",
    "end_date = session.query(Measurement.date,Measurement.prcp).order_by(Measurement.date.desc())[1][0]\n",
    "# calulate the begin date\n",
    "begin_date = end_date - year"
   ]
  },
  {
   "cell_type": "code",
   "execution_count": 139,
   "metadata": {},
   "outputs": [],
   "source": [
    "from sqlalchemy import func\n",
    "from sqlalchemy.sql import label\n",
    "result_proxy = session.query(Measurement.date,label('prcp',func.avg(Measurement.prcp))).\\\n",
    "                filter(Measurement.date>=begin_date).\\\n",
    "                group_by(Measurement.date)"
   ]
  },
  {
   "cell_type": "code",
   "execution_count": 140,
   "metadata": {},
   "outputs": [],
   "source": [
    "# instantitate an empty list called data to store the result proxy\n",
    "data = []\n",
    "for row in result_proxy:\n",
    "    data.append({'date': row[0], 'prcp': row[1]})"
   ]
  },
  {
   "cell_type": "code",
   "execution_count": 141,
   "metadata": {},
   "outputs": [
    {
     "data": {
      "text/html": [
       "<div>\n",
       "<style>\n",
       "    .dataframe thead tr:only-child th {\n",
       "        text-align: right;\n",
       "    }\n",
       "\n",
       "    .dataframe thead th {\n",
       "        text-align: left;\n",
       "    }\n",
       "\n",
       "    .dataframe tbody tr th {\n",
       "        vertical-align: top;\n",
       "    }\n",
       "</style>\n",
       "<table border=\"1\" class=\"dataframe\">\n",
       "  <thead>\n",
       "    <tr style=\"text-align: right;\">\n",
       "      <th></th>\n",
       "      <th>date</th>\n",
       "      <th>prcp</th>\n",
       "    </tr>\n",
       "  </thead>\n",
       "  <tbody>\n",
       "    <tr>\n",
       "      <th>0</th>\n",
       "      <td>2016-08-23</td>\n",
       "      <td>0.451667</td>\n",
       "    </tr>\n",
       "    <tr>\n",
       "      <th>1</th>\n",
       "      <td>2016-08-24</td>\n",
       "      <td>1.555000</td>\n",
       "    </tr>\n",
       "    <tr>\n",
       "      <th>2</th>\n",
       "      <td>2016-08-25</td>\n",
       "      <td>0.077143</td>\n",
       "    </tr>\n",
       "    <tr>\n",
       "      <th>3</th>\n",
       "      <td>2016-08-26</td>\n",
       "      <td>0.016667</td>\n",
       "    </tr>\n",
       "    <tr>\n",
       "      <th>4</th>\n",
       "      <td>2016-08-27</td>\n",
       "      <td>0.064000</td>\n",
       "    </tr>\n",
       "  </tbody>\n",
       "</table>\n",
       "</div>"
      ],
      "text/plain": [
       "        date      prcp\n",
       "0 2016-08-23  0.451667\n",
       "1 2016-08-24  1.555000\n",
       "2 2016-08-25  0.077143\n",
       "3 2016-08-26  0.016667\n",
       "4 2016-08-27  0.064000"
      ]
     },
     "metadata": {},
     "output_type": "display_data"
    },
    {
     "data": {
      "text/plain": [
       "(366, 2)"
      ]
     },
     "metadata": {},
     "output_type": "display_data"
    }
   ],
   "source": [
    "# convert the result proxy to a pandas dataframe\n",
    "import pandas as pd\n",
    "df_prec = pd.DataFrame(data)\n",
    "display(df_prec.head())\n",
    "display(df_prec.shape)"
   ]
  },
  {
   "cell_type": "code",
   "execution_count": 142,
   "metadata": {},
   "outputs": [
    {
     "data": {
      "text/html": [
       "<div>\n",
       "<style>\n",
       "    .dataframe thead tr:only-child th {\n",
       "        text-align: right;\n",
       "    }\n",
       "\n",
       "    .dataframe thead th {\n",
       "        text-align: left;\n",
       "    }\n",
       "\n",
       "    .dataframe tbody tr th {\n",
       "        vertical-align: top;\n",
       "    }\n",
       "</style>\n",
       "<table border=\"1\" class=\"dataframe\">\n",
       "  <thead>\n",
       "    <tr style=\"text-align: right;\">\n",
       "      <th></th>\n",
       "      <th>prcp</th>\n",
       "    </tr>\n",
       "    <tr>\n",
       "      <th>date</th>\n",
       "      <th></th>\n",
       "    </tr>\n",
       "  </thead>\n",
       "  <tbody>\n",
       "    <tr>\n",
       "      <th>2016-08-23</th>\n",
       "      <td>0.451667</td>\n",
       "    </tr>\n",
       "    <tr>\n",
       "      <th>2016-08-24</th>\n",
       "      <td>1.555000</td>\n",
       "    </tr>\n",
       "    <tr>\n",
       "      <th>2016-08-25</th>\n",
       "      <td>0.077143</td>\n",
       "    </tr>\n",
       "    <tr>\n",
       "      <th>2016-08-26</th>\n",
       "      <td>0.016667</td>\n",
       "    </tr>\n",
       "    <tr>\n",
       "      <th>2016-08-27</th>\n",
       "      <td>0.064000</td>\n",
       "    </tr>\n",
       "  </tbody>\n",
       "</table>\n",
       "</div>"
      ],
      "text/plain": [
       "                prcp\n",
       "date                \n",
       "2016-08-23  0.451667\n",
       "2016-08-24  1.555000\n",
       "2016-08-25  0.077143\n",
       "2016-08-26  0.016667\n",
       "2016-08-27  0.064000"
      ]
     },
     "metadata": {},
     "output_type": "display_data"
    },
    {
     "data": {
      "text/plain": [
       "(366, 1)"
      ]
     },
     "metadata": {},
     "output_type": "display_data"
    }
   ],
   "source": [
    "# set the index to date\n",
    "df_prec = df_prec.set_index('date',drop=True)\n",
    "display(df_prec.head())\n",
    "display(df_prec.shape)"
   ]
  },
  {
   "cell_type": "code",
   "execution_count": 143,
   "metadata": {},
   "outputs": [
    {
     "data": {
      "image/png": "[encoded data removed]",
      "text/plain": [
       "<matplotlib.figure.Figure at 0x1a21e25da0>"
      ]
     },
     "metadata": {},
     "output_type": "display_data"
    }
   ],
   "source": [
    "import matplotlib.pyplot as plt\n",
    "plt.style.use('ggplot')\n",
    "_ = df_prec.plot(figsize=(15,8))\n",
    "_ = plt.xlabel('Date')\n",
    "_ = plt.ylabel('Average Precipitation(Inches)')\n",
    "_ = plt.title(\"Average Precipitation for the Period\"+\"\\n\"+\"{} to {}\".format(begin_date,end_date))\n",
    "plt.show()"
   ]
  },
  {
   "cell_type": "code",
   "execution_count": 144,
   "metadata": {},
   "outputs": [
    {
     "data": {
      "text/html": [
       "<div>\n",
       "<style>\n",
       "    .dataframe thead tr:only-child th {\n",
       "        text-align: right;\n",
       "    }\n",
       "\n",
       "    .dataframe thead th {\n",
       "        text-align: left;\n",
       "    }\n",
       "\n",
       "    .dataframe tbody tr th {\n",
       "        vertical-align: top;\n",
       "    }\n",
       "</style>\n",
       "<table border=\"1\" class=\"dataframe\">\n",
       "  <thead>\n",
       "    <tr style=\"text-align: right;\">\n",
       "      <th></th>\n",
       "      <th>count</th>\n",
       "      <th>mean</th>\n",
       "      <th>std</th>\n",
       "      <th>min</th>\n",
       "      <th>25%</th>\n",
       "      <th>50%</th>\n",
       "      <th>75%</th>\n",
       "      <th>max</th>\n",
       "    </tr>\n",
       "  </thead>\n",
       "  <tbody>\n",
       "    <tr>\n",
       "      <th>prcp</th>\n",
       "      <td>366.0</td>\n",
       "      <td>0.170757</td>\n",
       "      <td>0.295683</td>\n",
       "      <td>0.0</td>\n",
       "      <td>0.008571</td>\n",
       "      <td>0.07</td>\n",
       "      <td>0.191667</td>\n",
       "      <td>2.38</td>\n",
       "    </tr>\n",
       "  </tbody>\n",
       "</table>\n",
       "</div>"
      ],
      "text/plain": [
       "      count      mean       std  min       25%   50%       75%   max\n",
       "prcp  366.0  0.170757  0.295683  0.0  0.008571  0.07  0.191667  2.38"
      ]
     },
     "execution_count": 144,
     "metadata": {},
     "output_type": "execute_result"
    }
   ],
   "source": [
    "df_prec.describe().T"
   ]
  },
  {
   "cell_type": "markdown",
   "metadata": {},
   "source": [
    "### Station Analysis\n",
    "\n",
    "* Design a query to calculate the total number of stations.\n",
    "\n",
    "* Design a query to find the most active stations.\n",
    "\n",
    "  * List the stations and observation counts in descending order\n",
    "\n",
    "  * Which station has the highest number of observations?\n",
    "\n",
    "* Design a query to retrieve the last 12 months of temperature observation data (tobs).\n",
    "\n",
    "  * Filter by the station with the highest number of observations.\n",
    "\n",
    "  * Plot the results as a histogram with `bins=12`.\n",
    "\n",
    "  <center><img src='images/temp_hist.png' height=\"400px\" /></center>"
   ]
  },
  {
   "cell_type": "code",
   "execution_count": 145,
   "metadata": {},
   "outputs": [
    {
     "name": "stdout",
     "output_type": "stream",
     "text": [
      "The total number of stations : 9\n"
     ]
    }
   ],
   "source": [
    "# Design a query to calculate the total number of stations.\n",
    "from sqlalchemy import distinct\n",
    "number_of_stations = session.query(func.count(distinct(Measurement.station))).scalar()\n",
    "print(f'The total number of stations : {number_of_stations}')"
   ]
  },
  {
   "cell_type": "code",
   "execution_count": 146,
   "metadata": {},
   "outputs": [],
   "source": [
    "result_proxy = session.query(Measurement,Station,label('number_of_observations',func.count(Station.station))).\\\n",
    "                     join(Station).\\\n",
    "                     group_by(Station.station).\\\n",
    "                     order_by(func.count(Station.station).desc()).\\\n",
    "                     all()\n",
    "data =[]      \n",
    "\n",
    "for row in result_proxy:\n",
    "    data.append({'station':row.stations.name,'number_of_observations':row.number_of_observations})"
   ]
  },
  {
   "cell_type": "code",
   "execution_count": 147,
   "metadata": {},
   "outputs": [
    {
     "data": {
      "text/html": [
       "<style  type=\"text/css\" >\n",
       "    #T_22699006_f243_11e7_b6fa_186590d6f757row0_col1 {\n",
       "            width:  10em;\n",
       "             height:  80%;\n",
       "            background:  linear-gradient(90deg, transparent 0%, transparent 0.0%, #d65f5f 0.0%, #d65f5f 100.0%, transparent 100.0%);\n",
       "        }    #T_22699006_f243_11e7_b6fa_186590d6f757row1_col1 {\n",
       "            width:  10em;\n",
       "             height:  80%;\n",
       "            background:  linear-gradient(90deg, transparent 0%, transparent 0.0%, #d65f5f 0.0%, #d65f5f 97.3%, transparent 97.3%);\n",
       "        }    #T_22699006_f243_11e7_b6fa_186590d6f757row2_col1 {\n",
       "            width:  10em;\n",
       "             height:  80%;\n",
       "            background:  linear-gradient(90deg, transparent 0%, transparent 0.0%, #d65f5f 0.0%, #d65f5f 96.9%, transparent 96.9%);\n",
       "        }    #T_22699006_f243_11e7_b6fa_186590d6f757row3_col1 {\n",
       "            width:  10em;\n",
       "             height:  80%;\n",
       "            background:  linear-gradient(90deg, transparent 0%, transparent 0.0%, #d65f5f 0.0%, #d65f5f 92.8%, transparent 92.8%);\n",
       "        }    #T_22699006_f243_11e7_b6fa_186590d6f757row4_col1 {\n",
       "            width:  10em;\n",
       "             height:  80%;\n",
       "            background:  linear-gradient(90deg, transparent 0%, transparent 0.0%, #d65f5f 0.0%, #d65f5f 89.6%, transparent 89.6%);\n",
       "        }    #T_22699006_f243_11e7_b6fa_186590d6f757row5_col1 {\n",
       "            width:  10em;\n",
       "             height:  80%;\n",
       "            background:  linear-gradient(90deg, transparent 0%, transparent 0.0%, #d65f5f 0.0%, #d65f5f 69.9%, transparent 69.9%);\n",
       "        }    #T_22699006_f243_11e7_b6fa_186590d6f757row6_col1 {\n",
       "            width:  10em;\n",
       "             height:  80%;\n",
       "            background:  linear-gradient(90deg, transparent 0%, transparent 0.0%, #d65f5f 0.0%, #d65f5f 69.7%, transparent 69.7%);\n",
       "        }    #T_22699006_f243_11e7_b6fa_186590d6f757row7_col1 {\n",
       "            width:  10em;\n",
       "             height:  80%;\n",
       "            background:  linear-gradient(90deg, transparent 0%, transparent 0.0%, #d65f5f 0.0%, #d65f5f 24.6%, transparent 24.6%);\n",
       "        }    #T_22699006_f243_11e7_b6fa_186590d6f757row8_col1 {\n",
       "            width:  10em;\n",
       "             height:  80%;\n",
       "            background:  linear-gradient(90deg, transparent 0%, transparent 0.0%, #d65f5f 0.0%, #d65f5f 12.3%, transparent 12.3%);\n",
       "        }</style>  \n",
       "<table id=\"T_22699006_f243_11e7_b6fa_186590d6f757\" > \n",
       "<thead>    <tr> \n",
       "        <th class=\"blank level0\" ></th> \n",
       "        <th class=\"col_heading level0 col0\" >station</th> \n",
       "        <th class=\"col_heading level0 col1\" >number_of_observations</th> \n",
       "    </tr></thead> \n",
       "<tbody>    <tr> \n",
       "        <th id=\"T_22699006_f243_11e7_b6fa_186590d6f757level0_row0\" class=\"row_heading level0 row0\" >0</th> \n",
       "        <td id=\"T_22699006_f243_11e7_b6fa_186590d6f757row0_col0\" class=\"data row0 col0\" >WAIHEE 837.5, HI US</td> \n",
       "        <td id=\"T_22699006_f243_11e7_b6fa_186590d6f757row0_col1\" class=\"data row0 col1\" >2772</td> \n",
       "    </tr>    <tr> \n",
       "        <th id=\"T_22699006_f243_11e7_b6fa_186590d6f757level0_row1\" class=\"row_heading level0 row1\" >1</th> \n",
       "        <td id=\"T_22699006_f243_11e7_b6fa_186590d6f757row1_col0\" class=\"data row1 col0\" >KANEOHE 838.1, HI US</td> \n",
       "        <td id=\"T_22699006_f243_11e7_b6fa_186590d6f757row1_col1\" class=\"data row1 col1\" >2696</td> \n",
       "    </tr>    <tr> \n",
       "        <th id=\"T_22699006_f243_11e7_b6fa_186590d6f757level0_row2\" class=\"row_heading level0 row2\" >2</th> \n",
       "        <td id=\"T_22699006_f243_11e7_b6fa_186590d6f757row2_col0\" class=\"data row2 col0\" >WAIKIKI 717.2, HI US</td> \n",
       "        <td id=\"T_22699006_f243_11e7_b6fa_186590d6f757row2_col1\" class=\"data row2 col1\" >2685</td> \n",
       "    </tr>    <tr> \n",
       "        <th id=\"T_22699006_f243_11e7_b6fa_186590d6f757level0_row3\" class=\"row_heading level0 row3\" >3</th> \n",
       "        <td id=\"T_22699006_f243_11e7_b6fa_186590d6f757row3_col0\" class=\"data row3 col0\" >WAIMANALO EXPERIMENTAL FARM, HI US</td> \n",
       "        <td id=\"T_22699006_f243_11e7_b6fa_186590d6f757row3_col1\" class=\"data row3 col1\" >2572</td> \n",
       "    </tr>    <tr> \n",
       "        <th id=\"T_22699006_f243_11e7_b6fa_186590d6f757level0_row4\" class=\"row_heading level0 row4\" >4</th> \n",
       "        <td id=\"T_22699006_f243_11e7_b6fa_186590d6f757row4_col0\" class=\"data row4 col0\" >MANOA LYON ARBO 785.2, HI US</td> \n",
       "        <td id=\"T_22699006_f243_11e7_b6fa_186590d6f757row4_col1\" class=\"data row4 col1\" >2484</td> \n",
       "    </tr>    <tr> \n",
       "        <th id=\"T_22699006_f243_11e7_b6fa_186590d6f757level0_row5\" class=\"row_heading level0 row5\" >5</th> \n",
       "        <td id=\"T_22699006_f243_11e7_b6fa_186590d6f757row5_col0\" class=\"data row5 col0\" >KUALOA RANCH HEADQUARTERS 886.9, HI US</td> \n",
       "        <td id=\"T_22699006_f243_11e7_b6fa_186590d6f757row5_col1\" class=\"data row5 col1\" >1937</td> \n",
       "    </tr>    <tr> \n",
       "        <th id=\"T_22699006_f243_11e7_b6fa_186590d6f757level0_row6\" class=\"row_heading level0 row6\" >6</th> \n",
       "        <td id=\"T_22699006_f243_11e7_b6fa_186590d6f757row6_col0\" class=\"data row6 col0\" >HONOLULU OBSERVATORY 702.2, HI US</td> \n",
       "        <td id=\"T_22699006_f243_11e7_b6fa_186590d6f757row6_col1\" class=\"data row6 col1\" >1932</td> \n",
       "    </tr>    <tr> \n",
       "        <th id=\"T_22699006_f243_11e7_b6fa_186590d6f757level0_row7\" class=\"row_heading level0 row7\" >7</th> \n",
       "        <td id=\"T_22699006_f243_11e7_b6fa_186590d6f757row7_col0\" class=\"data row7 col0\" >PEARL CITY, HI US</td> \n",
       "        <td id=\"T_22699006_f243_11e7_b6fa_186590d6f757row7_col1\" class=\"data row7 col1\" >683</td> \n",
       "    </tr>    <tr> \n",
       "        <th id=\"T_22699006_f243_11e7_b6fa_186590d6f757level0_row8\" class=\"row_heading level0 row8\" >8</th> \n",
       "        <td id=\"T_22699006_f243_11e7_b6fa_186590d6f757row8_col0\" class=\"data row8 col0\" >UPPER WAHIAWA 874.3, HI US</td> \n",
       "        <td id=\"T_22699006_f243_11e7_b6fa_186590d6f757row8_col1\" class=\"data row8 col1\" >342</td> \n",
       "    </tr></tbody> \n",
       "</table> "
      ],
      "text/plain": [
       "<pandas.io.formats.style.Styler at 0x1a21e254e0>"
      ]
     },
     "execution_count": 147,
     "metadata": {},
     "output_type": "execute_result"
    }
   ],
   "source": [
    "df = pd.DataFrame(data)\n",
    "df= df[['station','number_of_observations']]\n",
    "df.style.bar(subset=['number_of_observations'], align='mid', color=['#d65f5f'])"
   ]
  },
  {
   "cell_type": "code",
   "execution_count": 148,
   "metadata": {},
   "outputs": [
    {
     "name": "stdout",
     "output_type": "stream",
     "text": [
      "Station which has the highest number of observations : WAIHEE 837.5, HI US\n"
     ]
    }
   ],
   "source": [
    "# Which station has the highest number of observations?\n",
    "result_proxy = session.query(Measurement,Station,label('number_of_observations',func.count(Station.station))).\\\n",
    "                     join(Station).\\\n",
    "                     group_by(Station.station).\\\n",
    "                     order_by(func.count(Station.station).desc()).\\\n",
    "                     first()\n",
    "    \n",
    "most_active_station = result_proxy.stations.name\n",
    "print(f'Station which has the highest number of observations : {most_active_station}')"
   ]
  },
  {
   "cell_type": "code",
   "execution_count": 149,
   "metadata": {},
   "outputs": [],
   "source": [
    "# Design a query to retrieve the last 12 months of temperature observation data (tobs).\n",
    "# Filter by the station with the highest number of observations.\n",
    "# Plot the results as a histogram with bins=12.\n",
    "from sqlalchemy import func\n",
    "from sqlalchemy.sql import label\n",
    "\n",
    "result_proxy = session.query(Measurement,label('tobs',func.avg(Measurement.tobs))).\\\n",
    "                join(Station).\\\n",
    "                filter(Measurement.date>=begin_date).\\\n",
    "                filter(Station.name==most_active_station).\\\n",
    "                group_by(Measurement.date).all()"
   ]
  },
  {
   "cell_type": "code",
   "execution_count": 150,
   "metadata": {},
   "outputs": [],
   "source": [
    "# instantitate an empty list called data to store the result proxy\n",
    "data = []\n",
    "for row in result_proxy:\n",
    "    data.append({'date': row.measurements.date, 'tobs': row.measurements.tobs})"
   ]
  },
  {
   "cell_type": "code",
   "execution_count": 151,
   "metadata": {},
   "outputs": [
    {
     "data": {
      "text/html": [
       "<div>\n",
       "<style>\n",
       "    .dataframe thead tr:only-child th {\n",
       "        text-align: right;\n",
       "    }\n",
       "\n",
       "    .dataframe thead th {\n",
       "        text-align: left;\n",
       "    }\n",
       "\n",
       "    .dataframe tbody tr th {\n",
       "        vertical-align: top;\n",
       "    }\n",
       "</style>\n",
       "<table border=\"1\" class=\"dataframe\">\n",
       "  <thead>\n",
       "    <tr style=\"text-align: right;\">\n",
       "      <th></th>\n",
       "      <th>date</th>\n",
       "      <th>tobs</th>\n",
       "    </tr>\n",
       "  </thead>\n",
       "  <tbody>\n",
       "    <tr>\n",
       "      <th>0</th>\n",
       "      <td>2016-08-23</td>\n",
       "      <td>77</td>\n",
       "    </tr>\n",
       "    <tr>\n",
       "      <th>1</th>\n",
       "      <td>2016-08-24</td>\n",
       "      <td>77</td>\n",
       "    </tr>\n",
       "    <tr>\n",
       "      <th>2</th>\n",
       "      <td>2016-08-25</td>\n",
       "      <td>80</td>\n",
       "    </tr>\n",
       "    <tr>\n",
       "      <th>3</th>\n",
       "      <td>2016-08-26</td>\n",
       "      <td>80</td>\n",
       "    </tr>\n",
       "    <tr>\n",
       "      <th>4</th>\n",
       "      <td>2016-08-27</td>\n",
       "      <td>75</td>\n",
       "    </tr>\n",
       "  </tbody>\n",
       "</table>\n",
       "</div>"
      ],
      "text/plain": [
       "        date  tobs\n",
       "0 2016-08-23    77\n",
       "1 2016-08-24    77\n",
       "2 2016-08-25    80\n",
       "3 2016-08-26    80\n",
       "4 2016-08-27    75"
      ]
     },
     "metadata": {},
     "output_type": "display_data"
    },
    {
     "name": "stdout",
     "output_type": "stream",
     "text": [
      "<class 'pandas.core.frame.DataFrame'>\n",
      "RangeIndex: 352 entries, 0 to 351\n",
      "Data columns (total 2 columns):\n",
      "date    352 non-null datetime64[ns]\n",
      "tobs    352 non-null int64\n",
      "dtypes: datetime64[ns](1), int64(1)\n",
      "memory usage: 5.6 KB\n"
     ]
    },
    {
     "data": {
      "text/plain": [
       "None"
      ]
     },
     "metadata": {},
     "output_type": "display_data"
    }
   ],
   "source": [
    "# convert the result proxy to a pandas dataframe\n",
    "df_tobs = pd.DataFrame(data)\n",
    "display(df_tobs.head())\n",
    "display(df_tobs.info())"
   ]
  },
  {
   "cell_type": "code",
   "execution_count": 152,
   "metadata": {},
   "outputs": [],
   "source": [
    "# set the index to date\n",
    "df_tobs.set_index('date',drop=True,inplace=True)"
   ]
  },
  {
   "cell_type": "code",
   "execution_count": 153,
   "metadata": {
    "scrolled": true
   },
   "outputs": [
    {
     "data": {
      "image/png": "[encoded data removed]",
      "text/plain": [
       "<matplotlib.figure.Figure at 0x1a21c563c8>"
      ]
     },
     "metadata": {},
     "output_type": "display_data"
    }
   ],
   "source": [
    "import seaborn as sns\n",
    "plt.figure(figsize=(15,8))\n",
    "_ = sns.distplot(df_tobs,bins=12,kde=False)\n",
    "_ = plt.xlabel('Avg Tempreature')\n",
    "_ = plt.ylabel('Frequency')\n",
    "_ = plt.title(\"Histogram of the Avg Tempreature in {} for the Period\".format(most_active_station)+\"\\n\"+\"{} to {}\".format(begin_date,end_date))\n",
    "plt.show();"
   ]
  },
  {
   "cell_type": "markdown",
   "metadata": {},
   "source": [
    "### Temperature Analysis\n",
    "\n",
    "* Write a function called `calc_temps` that will accept a start date and end date in the format `%Y-%m-%d` and return the minimum, average, and maximum temperatures for that range of dates.\n",
    "\n",
    "* Use the `calc_temps` function to calculate the min, avg, and max temperatures for your trip using the matching dates from the previous year (i.e. use \"2017-01-01\" if your trip start date was \"2018-01-01\")\n",
    "\n",
    "* Plot the min, avg, and max temperature from your previous query as a bar chart.\n",
    "\n",
    "  * Use the average temperature as the bar height.\n",
    "\n",
    "  * Use the peak-to-peak (tmax-tmin) value as the y error bar (yerr).\n",
    "\n",
    "<center><img src='images/temp_avg.png'/></center>"
   ]
  },
  {
   "cell_type": "code",
   "execution_count": 154,
   "metadata": {},
   "outputs": [],
   "source": [
    "from datetime import date\n",
    "from sqlalchemy import and_\n",
    "\n",
    "def calc_temps():\n",
    "    '''the function will accept a start date and end date in the format %Y-%m-%d\n",
    "    and return the minimum, average, and maximum temperatures for that range of dates and a plot to\n",
    "    visualize the information'''\n",
    "    \n",
    "    date_entry = input('Enter the start date in YYYY-MM-DD format ')\n",
    "    year, month, day = map(int, date_entry.split('-')) # map(function_to_apply, list_of_inputs)\n",
    "    begin_date = date(year-1, month, day) # calculate the matching begin date from the previous year\n",
    "    date_entry = input('Enter the end date in YYYY-MM-DD format ')\n",
    "    year, month, day = map(int, date_entry.split('-'))\n",
    "    end_date = date(year-1, month, day) # calculate the matching end date from the previous year\n",
    "  \n",
    "    result_proxy = session.query(Measurement.tobs).\\\n",
    "                    filter(and_(Measurement.date >=begin_date, Measurement.date <=end_date))\n",
    "\n",
    "    data = []\n",
    "    for result in result_proxy:\n",
    "        data.append(result)\n",
    "\n",
    "    df = pd.DataFrame(data)\n",
    "    temp = dict({'min':df.min()[0],'max':df.max()[0],'mean':df.mean()[0]})\n",
    "    avg = temp['mean']\n",
    "    error = temp['max']-temp['min']\n",
    "    \n",
    "    plt.figure(figsize=(3,10))\n",
    "    _ = plt.bar(left=1,height=avg, align='center', yerr = error)\n",
    "    _ = plt.ylabel('Temp(F)')\n",
    "    _ = plt.title('Trip Avg Temp')\n",
    "    plt.axes().get_xaxis().set_visible(False)\n",
    "    plt.show();  "
   ]
  },
  {
   "cell_type": "code",
   "execution_count": 155,
   "metadata": {
    "scrolled": true
   },
   "outputs": [
    {
     "name": "stdout",
     "output_type": "stream",
     "text": [
      "Enter the start date in YYYY-MM-DD format 2018-03-10\n",
      "Enter the end date in YYYY-MM-DD format 2018-03-20\n"
     ]
    },
    {
     "data": {
      "image/png": "[encoded data removed]",
      "text/plain": [
       "<matplotlib.figure.Figure at 0x1a21f50c88>"
      ]
     },
     "metadata": {},
     "output_type": "display_data"
    }
   ],
   "source": [
    "calc_temps()"
   ]
  },
  {
   "cell_type": "markdown",
   "metadata": {},
   "source": [
    "### Optional Recommended Analysis\n",
    "\n",
    "* The following are optional challenge queries. These are highly recommended to attempt, but not required for the homework.\n",
    "\n",
    "  * Calcualte the rainfall per weather station using the previous year's matching dates.\n",
    "\n",
    "* Calculate the daily normals. Normals are the averages for min, avg, and max temperatures.\n",
    "\n",
    "  * Create a function called `daily_normals` that will calculate the daily normals for a specific date. This date string will be in the format `%m-%d`. Be sure to use all historic tobs that match that date string.\n",
    "\n",
    "  * Create a list of dates for your trip in the format `%m-%d`. Use the `daily_normals` function to calculate the normals for each date string and append the results to a list.\n",
    "\n",
    "  * Load the list of daily normals into a Pandas DataFrame and set the index equal to the date.\n",
    "\n",
    "  * Use Pandas to plot an area plot (`stacked=False`) for the daily normals.\n",
    "\n",
    "  <center><img src=\"images/daily_normals.png\" /></center>"
   ]
  },
  {
   "cell_type": "code",
   "execution_count": 156,
   "metadata": {},
   "outputs": [],
   "source": [
    "# Calcualte the rainfall per weather station using the previous year's matching dates.\n",
    "def dates_previous_year():\n",
    "    \n",
    "    '''the function will accept a start date and end date in the format %Y-%m-%d\n",
    "    and returns the previous year's matching dates'''\n",
    "        \n",
    "    date_entry = input('Enter the start date in YYYY-MM-DD format ')\n",
    "    year, month, day = map(int, date_entry.split('-')) # map(function_to_apply, list_of_inputs)\n",
    "    begin_date = date(year-1, month, day) # calculate the matching begin date from the previous year\n",
    "    date_entry = input('Enter the end date in YYYY-MM-DD format ')\n",
    "    year, month, day = map(int, date_entry.split('-'))\n",
    "    end_date = date(year-1, month, day) # calculate the matching end date from the previous year\n",
    "  \n",
    "    return dict({'start':begin_date,'end':end_date})"
   ]
  },
  {
   "cell_type": "code",
   "execution_count": 157,
   "metadata": {},
   "outputs": [
    {
     "name": "stdout",
     "output_type": "stream",
     "text": [
      "Enter the start date in YYYY-MM-DD format 2018-05-10\n",
      "Enter the end date in YYYY-MM-DD format 2018-05-15\n"
     ]
    }
   ],
   "source": [
    "# get the previous year's matching dates\n",
    "matching_dates = dates_previous_year()\n",
    "start = matching_dates['start']\n",
    "end = matching_dates['end']"
   ]
  },
  {
   "cell_type": "code",
   "execution_count": 158,
   "metadata": {},
   "outputs": [],
   "source": [
    "# query the the rainfall per weather station using the previous year's matching dates.\n",
    "result_proxy = session.query(Measurement,Station,Station.name,label('rainfall',func.avg(Measurement.prcp))).\\\n",
    "               join(Station).\\\n",
    "               filter(and_(Measurement.date >=start, Measurement.date <=end)).\\\n",
    "               group_by(Station.name).all()"
   ]
  },
  {
   "cell_type": "code",
   "execution_count": 159,
   "metadata": {},
   "outputs": [],
   "source": [
    "# create an empty list to store the query results\n",
    "data =[]      \n",
    "for row in result_proxy:\n",
    "    data.append({'station':row.stations.name,'RainFall':row.rainfall})"
   ]
  },
  {
   "cell_type": "code",
   "execution_count": 160,
   "metadata": {},
   "outputs": [
    {
     "data": {
      "text/html": [
       "<style  type=\"text/css\" >\n",
       "    #T_503592a8_f243_11e7_8eeb_186590d6f757row0_col1 {\n",
       "            width:  10em;\n",
       "             height:  80%;\n",
       "            background:  linear-gradient(90deg, transparent 0%, transparent 0.0%, #5fba7d 0.0%, #5fba7d 8.7%, transparent 8.7%);\n",
       "        }    #T_503592a8_f243_11e7_8eeb_186590d6f757row1_col1 {\n",
       "            width:  10em;\n",
       "             height:  80%;\n",
       "            background:  linear-gradient(90deg, transparent 0%, transparent 0.0%, #5fba7d 0.0%, #5fba7d 0.0%, transparent 0.0%);\n",
       "        }    #T_503592a8_f243_11e7_8eeb_186590d6f757row2_col1 {\n",
       "            width:  10em;\n",
       "             height:  80%;\n",
       "            background:  linear-gradient(90deg, transparent 0%, transparent 0.0%, #5fba7d 0.0%, #5fba7d 100.0%, transparent 100.0%);\n",
       "        }    #T_503592a8_f243_11e7_8eeb_186590d6f757row3_col1 {\n",
       "            width:  10em;\n",
       "             height:  80%;\n",
       "            background:  linear-gradient(90deg, transparent 0%, transparent 0.0%, #5fba7d 0.0%, #5fba7d 28.8%, transparent 28.8%);\n",
       "        }    #T_503592a8_f243_11e7_8eeb_186590d6f757row4_col1 {\n",
       "            width:  10em;\n",
       "             height:  80%;\n",
       "            background:  linear-gradient(90deg, transparent 0%, transparent 0.0%, #5fba7d 0.0%, #5fba7d 0.5%, transparent 0.5%);\n",
       "        }    #T_503592a8_f243_11e7_8eeb_186590d6f757row5_col1 {\n",
       "            width:  10em;\n",
       "             height:  80%;\n",
       "            background:  linear-gradient(90deg, transparent 0%, transparent 0.0%, #5fba7d 0.0%, #5fba7d 2.7%, transparent 2.7%);\n",
       "        }</style>  \n",
       "<table id=\"T_503592a8_f243_11e7_8eeb_186590d6f757\" > \n",
       "<thead>    <tr> \n",
       "        <th class=\"blank level0\" ></th> \n",
       "        <th class=\"col_heading level0 col0\" >station</th> \n",
       "        <th class=\"col_heading level0 col1\" >RainFall</th> \n",
       "    </tr></thead> \n",
       "<tbody>    <tr> \n",
       "        <th id=\"T_503592a8_f243_11e7_8eeb_186590d6f757level0_row0\" class=\"row_heading level0 row0\" >0</th> \n",
       "        <td id=\"T_503592a8_f243_11e7_8eeb_186590d6f757row0_col0\" class=\"data row0 col0\" >KANEOHE 838.1, HI US</td> \n",
       "        <td id=\"T_503592a8_f243_11e7_8eeb_186590d6f757row0_col1\" class=\"data row0 col1\" >0.038</td> \n",
       "    </tr>    <tr> \n",
       "        <th id=\"T_503592a8_f243_11e7_8eeb_186590d6f757level0_row1\" class=\"row_heading level0 row1\" >1</th> \n",
       "        <td id=\"T_503592a8_f243_11e7_8eeb_186590d6f757row1_col0\" class=\"data row1 col0\" >KUALOA RANCH HEADQUARTERS 886.9, HI US</td> \n",
       "        <td id=\"T_503592a8_f243_11e7_8eeb_186590d6f757row1_col1\" class=\"data row1 col1\" >0</td> \n",
       "    </tr>    <tr> \n",
       "        <th id=\"T_503592a8_f243_11e7_8eeb_186590d6f757level0_row2\" class=\"row_heading level0 row2\" >2</th> \n",
       "        <td id=\"T_503592a8_f243_11e7_8eeb_186590d6f757row2_col0\" class=\"data row2 col0\" >MANOA LYON ARBO 785.2, HI US</td> \n",
       "        <td id=\"T_503592a8_f243_11e7_8eeb_186590d6f757row2_col1\" class=\"data row2 col1\" >0.438</td> \n",
       "    </tr>    <tr> \n",
       "        <th id=\"T_503592a8_f243_11e7_8eeb_186590d6f757level0_row3\" class=\"row_heading level0 row3\" >3</th> \n",
       "        <td id=\"T_503592a8_f243_11e7_8eeb_186590d6f757row3_col0\" class=\"data row3 col0\" >WAIHEE 837.5, HI US</td> \n",
       "        <td id=\"T_503592a8_f243_11e7_8eeb_186590d6f757row3_col1\" class=\"data row3 col1\" >0.126</td> \n",
       "    </tr>    <tr> \n",
       "        <th id=\"T_503592a8_f243_11e7_8eeb_186590d6f757level0_row4\" class=\"row_heading level0 row4\" >4</th> \n",
       "        <td id=\"T_503592a8_f243_11e7_8eeb_186590d6f757row4_col0\" class=\"data row4 col0\" >WAIKIKI 717.2, HI US</td> \n",
       "        <td id=\"T_503592a8_f243_11e7_8eeb_186590d6f757row4_col1\" class=\"data row4 col1\" >0.002</td> \n",
       "    </tr>    <tr> \n",
       "        <th id=\"T_503592a8_f243_11e7_8eeb_186590d6f757level0_row5\" class=\"row_heading level0 row5\" >5</th> \n",
       "        <td id=\"T_503592a8_f243_11e7_8eeb_186590d6f757row5_col0\" class=\"data row5 col0\" >WAIMANALO EXPERIMENTAL FARM, HI US</td> \n",
       "        <td id=\"T_503592a8_f243_11e7_8eeb_186590d6f757row5_col1\" class=\"data row5 col1\" >0.012</td> \n",
       "    </tr></tbody> \n",
       "</table> "
      ],
      "text/plain": [
       "<pandas.io.formats.style.Styler at 0x1a21e25cf8>"
      ]
     },
     "execution_count": 160,
     "metadata": {},
     "output_type": "execute_result"
    }
   ],
   "source": [
    "# covert the query results to a pandas dataframe\n",
    "df = pd.DataFrame(data)\n",
    "df= df[['station','RainFall']]\n",
    "df.style.bar(subset=['RainFall'], align='mid', color=['#5fba7d'])"
   ]
  },
  {
   "cell_type": "code",
   "execution_count": 6,
   "metadata": {},
   "outputs": [
    {
     "data": {
      "text/plain": [
       "datetime.date(2017, 1, 15)"
      ]
     },
     "execution_count": 6,
     "metadata": {},
     "output_type": "execute_result"
    }
   ],
   "source": [
    "from datetime import date\n",
    "startdate ='2017-01-15'\n",
    "year,month,day = map(int,startdate.split('-'))\n",
    "date(year,month,day)"
   ]
  },
  {
   "cell_type": "code",
   "execution_count": null,
   "metadata": {},
   "outputs": [],
   "source": []
  }
 ],
 "metadata": {
  "kernelspec": {
   "display_name": "Python 3",
   "language": "python",
   "name": "python3"
  },
  "language_info": {
   "codemirror_mode": {
    "name": "ipython",
    "version": 3
   },
   "file_extension": ".py",
   "mimetype": "text/x-python",
   "name": "python",
   "nbconvert_exporter": "python",
   "pygments_lexer": "ipython3",
   "version": "3.6.2"
  }
 },
 "nbformat": 4,
 "nbformat_minor": 2
}
